{
 "cells": [
  {
   "cell_type": "code",
   "execution_count": 1,
   "metadata": {},
   "outputs": [
    {
     "name": "stderr",
     "output_type": "stream",
     "text": [
      "/home/hhl/anaconda3/lib/python3.6/site-packages/h5py/__init__.py:34: FutureWarning: Conversion of the second argument of issubdtype from `float` to `np.floating` is deprecated. In future, it will be treated as `np.float64 == np.dtype(float).type`.\n",
      "  from ._conv import register_converters as _register_converters\n"
     ]
    }
   ],
   "source": [
    "import os\n",
    "import math\n",
    "import tensorflow as tf\n",
    "import datetime"
   ]
  },
  {
   "cell_type": "markdown",
   "metadata": {},
   "source": [
    "## 数据预处理--处理好每个pin的数据。 "
   ]
  },
  {
   "cell_type": "code",
   "execution_count": 2,
   "metadata": {
    "collapsed": true
   },
   "outputs": [],
   "source": [
    "pin2value = dict()"
   ]
  },
  {
   "cell_type": "code",
   "execution_count": 3,
   "metadata": {},
   "outputs": [],
   "source": [
    "with open('data/sdtm_final.txt','r') as f:\n",
    "    for line in f:\n",
    "        line = line.strip().split('\\t')\n",
    "        pin = line[0]\n",
    "        data = line[1]\n",
    "        dt = line[2]\n",
    "        if pin in pin2value:\n",
    "            dt2data = pin2value.get(pin)\n",
    "        else:\n",
    "            dt2data = {}\n",
    "        dt2data[dt] = data\n",
    "        pin2value[pin] = dt2data"
   ]
  },
  {
   "cell_type": "code",
   "execution_count": 4,
   "metadata": {},
   "outputs": [],
   "source": [
    "def get_date_list(datestart = None,dateend = None):\n",
    "    # 创建日期辅助表\n",
    "    if datestart is None:\n",
    "        datestart = '20170101'\n",
    "    if dateend is None:\n",
    "        dateend = datetime.datetime.now().strftime('%Y%m%d')\n",
    "\n",
    "    # 转为日期格式\n",
    "    datestart=datetime.datetime.strptime(datestart,'%Y%m%d')\n",
    "    dateend=datetime.datetime.strptime(dateend,'%Y%m%d')\n",
    "    date_list = []\n",
    "    date_list.append(datestart.strftime('%Y%m%d'))\n",
    "    while datestart<dateend:\n",
    "        # 日期叠加一天\n",
    "        datestart+=datetime.timedelta(days=+1)\n",
    "        # 日期转字符串存入列表\n",
    "        date_list.append(datestart.strftime('%Y%m%d'))\n",
    "    return date_list\n",
    "#     print(date_list)"
   ]
  },
  {
   "cell_type": "code",
   "execution_count": 5,
   "metadata": {},
   "outputs": [],
   "source": [
    "date_list = get_date_list('2018061','20181130')"
   ]
  },
  {
   "cell_type": "code",
   "execution_count": 6,
   "metadata": {},
   "outputs": [],
   "source": [
    "pin2data_final = {}\n",
    "for pin,value in pin2value.items():\n",
    "    data_sortedby_dt = []\n",
    "    for date in date_list:\n",
    "        if date in value:\n",
    "            data_sortedby_dt.append(value[date].split('|'))\n",
    "        else:\n",
    "            week = datetime.datetime.strptime(date,'%Y%m%d').weekday()\n",
    "            strvalue = '0|0|0|0|0|0|0|0|0|0|0|0|0|0|0|0|0|0|0|0|0|0|0|0|'+str(week)+'|0'\n",
    "            data_sortedby_dt.append(strvalue.split('|'))\n",
    "    if '20181130' in value:\n",
    "        pin2data_final[pin] = data_sortedby_dt"
   ]
  },
  {
   "cell_type": "code",
   "execution_count": 7,
   "metadata": {},
   "outputs": [
    {
     "data": {
      "text/plain": [
       "69281"
      ]
     },
     "execution_count": 7,
     "metadata": {},
     "output_type": "execute_result"
    }
   ],
   "source": [
    "len(pin2data_final)"
   ]
  },
  {
   "cell_type": "code",
   "execution_count": 8,
   "metadata": {},
   "outputs": [
    {
     "data": {
      "text/plain": [
       "499435"
      ]
     },
     "execution_count": 8,
     "metadata": {},
     "output_type": "execute_result"
    }
   ],
   "source": [
    "len(pin2value)"
   ]
  },
  {
   "cell_type": "code",
   "execution_count": 18,
   "metadata": {},
   "outputs": [
    {
     "name": "stdout",
     "output_type": "stream",
     "text": [
      "26\n",
      "13\n",
      "26\n",
      "13\n",
      "26\n",
      "13\n",
      "26\n",
      "13\n",
      "26\n",
      "13\n",
      "26\n",
      "13\n",
      "26\n",
      "13\n",
      "26\n",
      "13\n",
      "26\n",
      "13\n",
      "26\n",
      "13\n"
     ]
    }
   ],
   "source": [
    "i = 0 \n",
    "with open('data/pin2data_final.txt','w') as f:\n",
    "    for pin,value in pin2data_final.items():\n",
    "        i += 1\n",
    "        if i > 10 :\n",
    "            break\n",
    "        print(len(value[0:-1][0]))\n",
    "        print(len(value[-1][8:20]))\n",
    "        f.write(str(value[0:-1]) + '\\t' + str(value[-1][8:21]) +'\\n')"
   ]
  },
  {
   "cell_type": "code",
   "execution_count": 17,
   "metadata": {
    "collapsed": true
   },
   "outputs": [],
   "source": [
    "def get_batch(data, batch_size):\n",
    "    x_batch,y_batch = [], []\n",
    "    for pin, data_sortedby_dt in data.items():\n",
    "        if len(x_batch) == batch_size :\n",
    "            yield x_batch, y_batch\n",
    "            x_batch, y_batch = [], []\n",
    "        x_batch += data_sortedby_dt[:-1]\n",
    "        y_batch += data_sortedby_dt[-1][8:21]"
   ]
  },
  {
   "cell_type": "code",
   "execution_count": 18,
   "metadata": {
    "collapsed": true
   },
   "outputs": [],
   "source": [
    "batch_size = 32"
   ]
  },
  {
   "cell_type": "code",
   "execution_count": 20,
   "metadata": {},
   "outputs": [],
   "source": [
    "for i, (x_batch, y_batch) in enumerate(get_batch(pin2data_final, batch_size)):\n",
    "    print(i)"
   ]
  },
  {
   "cell_type": "code",
   "execution_count": null,
   "metadata": {
    "collapsed": true
   },
   "outputs": [],
   "source": []
  }
 ],
 "metadata": {
  "kernelspec": {
   "display_name": "Python 3",
   "language": "python",
   "name": "python3"
  },
  "language_info": {
   "codemirror_mode": {
    "name": "ipython",
    "version": 3
   },
   "file_extension": ".py",
   "mimetype": "text/x-python",
   "name": "python",
   "nbconvert_exporter": "python",
   "pygments_lexer": "ipython3",
   "version": "3.6.3"
  }
 },
 "nbformat": 4,
 "nbformat_minor": 2
}
