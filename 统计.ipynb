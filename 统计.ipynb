{
 "cells": [
  {
   "cell_type": "code",
   "execution_count": 1,
   "metadata": {},
   "outputs": [],
   "source": [
    "import numpy as np\n",
    "filename = '/home/hhl/code/sdtm_lstm/data/sdtm_output.npz'\n",
    "with np.load(filename) as data:\n",
    "    arr_np = data['data']"
   ]
  },
  {
   "cell_type": "code",
   "execution_count": 2,
   "metadata": {},
   "outputs": [],
   "source": [
    "np.random.seed(88)\n",
    "np.random.shuffle(arr_np)"
   ]
  },
  {
   "cell_type": "code",
   "execution_count": 15,
   "metadata": {
    "collapsed": true
   },
   "outputs": [],
   "source": [
    "x = arr_np[0:400*64,90:-1,8:20].astype(np.int32)\n",
    "y = arr_np[0:400*64,-1,8:20].astype(np.int32)"
   ]
  },
  {
   "cell_type": "code",
   "execution_count": 5,
   "metadata": {},
   "outputs": [
    {
     "name": "stdout",
     "output_type": "stream",
     "text": [
      "x.shape (25600, 92, 12) y.shape (25600, 12)\n"
     ]
    }
   ],
   "source": [
    "print('x.shape',x.shape,'y.shape',y.shape)"
   ]
  },
  {
   "cell_type": "code",
   "execution_count": 44,
   "metadata": {
    "collapsed": true
   },
   "outputs": [],
   "source": [
    "def calculate_loss(pred_topk,label_topk):\n",
    "    weight_sum = 0\n",
    "    for i, pred in enumerate(pred_topk):\n",
    "        weight = 1.0 / (len(pred_topk))\n",
    "        label_set = set(label_topk[0:i + 1])\n",
    "        weight_score = 1\n",
    "        if pred in label_set or (pred + 1) in label_set or (pred - 1) in label_set:\n",
    "            weight_score = 0\n",
    "        weight = weight_score * weight\n",
    "        weight_sum += weight\n",
    "    return  weight_sum"
   ]
  },
  {
   "cell_type": "code",
   "execution_count": 16,
   "metadata": {},
   "outputs": [],
   "source": [
    "x_tj = np.sum(x, axis=1)"
   ]
  },
  {
   "cell_type": "code",
   "execution_count": 24,
   "metadata": {},
   "outputs": [],
   "source": [
    "x_tj_sorted = np.argsort(-x_tj)\n",
    "x_tj_sorted = x_tj_sorted[:,:5]"
   ]
  },
  {
   "cell_type": "code",
   "execution_count": 32,
   "metadata": {
    "collapsed": true
   },
   "outputs": [],
   "source": [
    "y_sorted = np.argsort(-y)\n",
    "y_sorted = y_sorted[:,:5]"
   ]
  },
  {
   "cell_type": "code",
   "execution_count": 34,
   "metadata": {},
   "outputs": [
    {
     "data": {
      "text/plain": [
       "array([ 1,  2,  4,  3, 10])"
      ]
     },
     "execution_count": 34,
     "metadata": {},
     "output_type": "execute_result"
    }
   ],
   "source": [
    "x_tj_sorted[0]"
   ]
  },
  {
   "cell_type": "code",
   "execution_count": 35,
   "metadata": {},
   "outputs": [
    {
     "data": {
      "text/plain": [
       "array([4, 8, 0, 1, 2])"
      ]
     },
     "execution_count": 35,
     "metadata": {},
     "output_type": "execute_result"
    }
   ],
   "source": [
    "y_sorted[0]"
   ]
  },
  {
   "cell_type": "code",
   "execution_count": 38,
   "metadata": {
    "collapsed": true
   },
   "outputs": [],
   "source": [
    "x_tj_sorted_top5 = x_tj_sorted.tolist()"
   ]
  },
  {
   "cell_type": "code",
   "execution_count": 39,
   "metadata": {},
   "outputs": [],
   "source": [
    "y_sorted_top5 = y_sorted.tolist()"
   ]
  },
  {
   "cell_type": "code",
   "execution_count": 48,
   "metadata": {},
   "outputs": [
    {
     "name": "stdout",
     "output_type": "stream",
     "text": [
      "0.49463281249999974\n"
     ]
    }
   ],
   "source": [
    "step = 0 \n",
    "sum_loss = 0\n",
    "index = 0\n",
    "for x_i, y_i in zip(x_tj_sorted_top5, y_sorted_top5):\n",
    "    index += 1\n",
    "    loss = calculate_loss(x_i,y_i)\n",
    "    sum_loss += loss\n",
    "    step += 1\n",
    "print(sum_loss/index)"
   ]
  },
  {
   "cell_type": "code",
   "execution_count": null,
   "metadata": {
    "collapsed": true
   },
   "outputs": [],
   "source": []
  }
 ],
 "metadata": {
  "kernelspec": {
   "display_name": "Python 3",
   "language": "python",
   "name": "python3"
  },
  "language_info": {
   "codemirror_mode": {
    "name": "ipython",
    "version": 3
   },
   "file_extension": ".py",
   "mimetype": "text/x-python",
   "name": "python",
   "nbconvert_exporter": "python",
   "pygments_lexer": "ipython3",
   "version": "3.6.3"
  }
 },
 "nbformat": 4,
 "nbformat_minor": 2
}
